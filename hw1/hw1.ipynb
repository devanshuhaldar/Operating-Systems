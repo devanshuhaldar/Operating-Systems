{
 "cells": [
  {
   "cell_type": "code",
   "execution_count": 1,
   "metadata": {},
   "outputs": [],
   "source": [
    "class BasicBlock:\n",
    "    def __init__(self, name):\n",
    "        self.name = name\n",
    "        self.statements = []\n",
    "        self.predecessors = []\n",
    "        self.successors = []\n",
    "\n",
    "\n",
    "class Statement:\n",
    "    def __init__(self, variable, expression):\n",
    "        self.variable = variable\n",
    "        self.expression = expression\n",
    "\n",
    "    def is_assignment(self):\n",
    "        return isinstance(self.expression, AssignmentExpression)\n",
    "\n",
    "\n",
    "class AssignmentExpression:\n",
    "    def __init__(self, variable, value):\n",
    "        self.variable = variable\n",
    "        self.value = value\n",
    "\n",
    "\n",
    "def create_sample_cfg():\n",
    "    # Create basic blocks\n",
    "    block1 = BasicBlock(\"Block 1\")\n",
    "    block2 = BasicBlock(\"Block 2\")\n",
    "    block3 = BasicBlock(\"Block 3\")\n",
    "    block4 = BasicBlock(\"Block 4\")\n",
    "    block5 = BasicBlock(\"Block 5\")\n",
    "    block6 = BasicBlock(\"Block 6\")\n",
    "\n",
    "    # Create statements\n",
    "    stmt1 = Statement(\"a\", AssignmentExpression(\"a\", \"1\"))\n",
    "    stmt2 = Statement(\"b\", AssignmentExpression(\"b\", \"2\"))\n",
    "    stmt3 = Statement(\"c\", AssignmentExpression(\"c\", \"a + b\"))\n",
    "    stmt4 = Statement(\"d\", AssignmentExpression(\"d\", \"c - a\"))\n",
    "    stmt5 = Statement(\"d\", AssignmentExpression(\"d\", \"b + d\"))\n",
    "    stmt6 = Statement(\"d\", AssignmentExpression(\"d\", \"a + b\"))\n",
    "    stmt7 = Statement(\"e\", AssignmentExpression(\"e\", \"e + 1\"))\n",
    "    stmt8 = Statement(\"b\", AssignmentExpression(\"b\", \"a + b\"))\n",
    "    stmt9 = Statement(\"e\", AssignmentExpression(\"e\", \"c - a\"))\n",
    "    stmt10 = Statement(\"a\", AssignmentExpression(\"a\", \"b * d\"))\n",
    "    stmt11 = Statement(\"b\", AssignmentExpression(\"b\", \"a - d\"))\n",
    "\n",
    "    # Connect basic blocks\n",
    "    block1.successors = [block2]\n",
    "    \n",
    "    block2.predecessors = [block1, block5]\n",
    "    block2.successors = [block3]\n",
    "\n",
    "    block3.predecessors = [block2, block4]\n",
    "    block3.successors = [block4, block5]\n",
    "\n",
    "    block4.predecessors = [block3]\n",
    "    block4.successors = [block3]\n",
    "\n",
    "    block5.predecessors = [block3]\n",
    "    block5.successors = [block2]\n",
    "\n",
    "    block6.predecessors = [block5]\n",
    "    \n",
    "\n",
    "\n",
    "    # Assign statements to basic blocks\n",
    "    block1.statements = [stmt1, stmt2]\n",
    "    block2.statements = [stmt3, stmt4]\n",
    "    block3.statements = [stmt5]\n",
    "    block4.statements = [stmt6, stmt7]\n",
    "    block5.statements = [stmt8, stmt9]\n",
    "    block6.statements = [stmt10, stmt11]\n",
    "\n",
    "\n",
    "    # Return the CFG\n",
    "    return [block1, block2, block3, block4, block5, block6]"
   ]
  },
  {
   "cell_type": "code",
   "execution_count": 5,
   "metadata": {},
   "outputs": [
    {
     "name": "stdout",
     "output_type": "stream",
     "text": [
      "[<__main__.BasicBlock object at 0x111a425d0>, <__main__.BasicBlock object at 0x111a50b90>]\n"
     ]
    }
   ],
   "source": [
    "cfg = create_sample_cfg()\n",
    "print(cfg[1])"
   ]
  },
  {
   "cell_type": "code",
   "execution_count": 9,
   "metadata": {},
   "outputs": [
    {
     "name": "stdout",
     "output_type": "stream",
     "text": [
      "cfg created...\n",
      "working....\n",
      "worklist len:  6\n"
     ]
    },
    {
     "ename": "KeyboardInterrupt",
     "evalue": "",
     "output_type": "error",
     "traceback": [
      "\u001b[0;31m---------------------------------------------------------------------------\u001b[0m",
      "\u001b[0;31mKeyboardInterrupt\u001b[0m                         Traceback (most recent call last)",
      "Cell \u001b[0;32mIn[9], line 44\u001b[0m\n\u001b[1;32m     41\u001b[0m \u001b[38;5;28mprint\u001b[39m(\u001b[38;5;124m\"\u001b[39m\u001b[38;5;124mcfg created...\u001b[39m\u001b[38;5;124m\"\u001b[39m)\n\u001b[1;32m     43\u001b[0m \u001b[38;5;66;03m# Call the function to calculate reaching definitions sets\u001b[39;00m\n\u001b[0;32m---> 44\u001b[0m kill_set, gen_set, in_set, out_set \u001b[38;5;241m=\u001b[39m \u001b[43mcalculate_reaching_definitions\u001b[49m\u001b[43m(\u001b[49m\u001b[43mcfg\u001b[49m\u001b[43m)\u001b[49m\n\u001b[1;32m     46\u001b[0m \u001b[38;5;66;03m# Now you can inspect the results\u001b[39;00m\n\u001b[1;32m     47\u001b[0m \u001b[38;5;28mprint\u001b[39m(\u001b[38;5;124m\"\u001b[39m\u001b[38;5;124mKill set:\u001b[39m\u001b[38;5;124m\"\u001b[39m)\n",
      "Cell \u001b[0;32mIn[9], line 28\u001b[0m, in \u001b[0;36mcalculate_reaching_definitions\u001b[0;34m(cfg)\u001b[0m\n\u001b[1;32m     24\u001b[0m in_set[current_block] \u001b[38;5;241m=\u001b[39m \u001b[38;5;28mset\u001b[39m()\u001b[38;5;241m.\u001b[39munion(\u001b[38;5;241m*\u001b[39m[out_set[predecessor] \u001b[38;5;28;01mfor\u001b[39;00m predecessor \u001b[38;5;129;01min\u001b[39;00m current_block\u001b[38;5;241m.\u001b[39mpredecessors])\n\u001b[1;32m     27\u001b[0m \u001b[38;5;66;03m# Calculate Out set for the current block\u001b[39;00m\n\u001b[0;32m---> 28\u001b[0m out_set[current_block] \u001b[38;5;241m=\u001b[39m gen[current_block]\u001b[38;5;241m.\u001b[39munion(\u001b[43min_set\u001b[49m\u001b[43m[\u001b[49m\u001b[43mcurrent_block\u001b[49m\u001b[43m]\u001b[49m\u001b[38;5;241;43m.\u001b[39;49m\u001b[43mdifference\u001b[49m\u001b[43m(\u001b[49m\u001b[43mkill\u001b[49m\u001b[43m[\u001b[49m\u001b[43mcurrent_block\u001b[49m\u001b[43m]\u001b[49m\u001b[43m)\u001b[49m)\n\u001b[1;32m     31\u001b[0m \u001b[38;5;66;03m# Update In set for successors of the current block\u001b[39;00m\n\u001b[1;32m     32\u001b[0m \u001b[38;5;28;01mfor\u001b[39;00m successor \u001b[38;5;129;01min\u001b[39;00m current_block\u001b[38;5;241m.\u001b[39msuccessors:\n",
      "\u001b[0;31mKeyboardInterrupt\u001b[0m: "
     ]
    }
   ],
   "source": [
    "def calculate_reaching_definitions(cfg):\n",
    "    # Initialize Kill, Gen, In, and Out sets for each basic block\n",
    "    kill = {block: set() for block in cfg}\n",
    "    gen = {block: set() for block in cfg}\n",
    "    in_set = {block: set() for block in cfg}\n",
    "    out_set = {block: set() for block in cfg}\n",
    "    print(\"working....\")\n",
    "    # Calculate Kill and Gen sets for each basic block\n",
    "    for block in cfg:\n",
    "        kill[block] = set()  # Initialize Kill set to an empty set\n",
    "\n",
    "        for stmt in block.statements:\n",
    "            if stmt.is_assignment():  # Check if statement is an assignment\n",
    "                kill[block].add(stmt.variable)  # Add assigned variable to Kill set\n",
    "                gen[block].add(stmt.variable)  # Add assigned variable to Gen set\n",
    "\n",
    "    # Perform the reaching definitions analysis using a worklist algorithm\n",
    "    worklist = list(cfg)  # Initialize worklist with all basic blocks\n",
    "    print(\"worklist len: \", len(worklist))\n",
    "    while worklist:\n",
    "        current_block = worklist.pop(0)\n",
    "\n",
    "        # Calculate In set for the current block\n",
    "        in_set[current_block] = set().union(*[out_set[predecessor] for predecessor in current_block.predecessors])\n",
    "\n",
    "\n",
    "        # Calculate Out set for the current block\n",
    "        out_set[current_block] = gen[current_block].union(in_set[current_block].difference(kill[current_block]))\n",
    "\n",
    "\n",
    "        # Update In set for successors of the current block\n",
    "        print(\"worklist before\")\n",
    "        for successor in current_block.successors:\n",
    "            print(\"worklist AFTER\")\n",
    "            if successor not in worklist:\n",
    "                worklist.append(successor)\n",
    "\n",
    "    # Return the calculated sets\n",
    "    return kill, gen, in_set, out_set\n",
    "\n",
    "# Assuming you have created the cfg using create_sample_cfg function\n",
    "cfg = create_sample_cfg()\n",
    "print(\"cfg created...\")\n",
    "\n",
    "# Call the function to calculate reaching definitions sets\n",
    "kill_set, gen_set, in_set, out_set = calculate_reaching_definitions(cfg)\n",
    "\n",
    "# Now you can inspect the results\n",
    "print(\"Kill set:\")\n",
    "for block, variables in kill_set.items():\n",
    "    print(f\"{block.name}: {variables}\")\n",
    "\n",
    "print(\"\\nGen set:\")\n",
    "for block, variables in gen_set.items():\n",
    "    print(f\"{block.name}: {variables}\")\n",
    "\n",
    "print(\"\\nIn set:\")\n",
    "for block, variables in in_set.items():\n",
    "    print(f\"{block.name}: {variables}\")\n",
    "\n",
    "print(\"\\nOut set:\")\n",
    "for block, variables in out_set.items():\n",
    "    print(f\"{block.name}: {variables}\")\n"
   ]
  },
  {
   "cell_type": "code",
   "execution_count": null,
   "metadata": {},
   "outputs": [],
   "source": []
  }
 ],
 "metadata": {
  "kernelspec": {
   "display_name": "Python 3.11.7 64-bit",
   "language": "python",
   "name": "python3"
  },
  "language_info": {
   "codemirror_mode": {
    "name": "ipython",
    "version": 3
   },
   "file_extension": ".py",
   "mimetype": "text/x-python",
   "name": "python",
   "nbconvert_exporter": "python",
   "pygments_lexer": "ipython3",
   "version": "3.11.7"
  },
  "orig_nbformat": 4,
  "vscode": {
   "interpreter": {
    "hash": "b0fa6594d8f4cbf19f97940f81e996739fb7646882a419484c72d19e05852a7e"
   }
  }
 },
 "nbformat": 4,
 "nbformat_minor": 2
}
